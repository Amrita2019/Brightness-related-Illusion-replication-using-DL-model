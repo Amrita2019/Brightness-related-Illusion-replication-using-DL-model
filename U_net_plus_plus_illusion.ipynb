from __future__ import print_function
from keras.preprocessing.image import ImageDataGenerator
import numpy as np 
import os
import glob
import skimage.io as io
import skimage.transform as trans
from skimage import img_as_ubyte
from PIL import Image
import sys
import tensorflow as tf

#convert an image into normalized form
def adjustData(img,mask,flag_multi_class = False,num_class):
  img = img / 255
  mask = mask /255
  mask[mask > 0.5] = 1
  mask[mask <= 0.5] = 0
  return (img,mask)


#training data augmentation
def trainGenerator(batch_size,train_path,image_folder,mask_folder,aug_dict,image_color_mode = "grayscale",
                    mask_color_mode = "grayscale",image_save_prefix  = "image",mask_save_prefix  = "mask",
                    flag_multi_class = False,num_class = 2,save_to_dir = None,target_size = (256,256),seed = 1):
    '''
    can generate image and mask at the same time
    use the same seed for image_datagen and mask_datagen to ensure the transformation for image and mask is the same
    if you want to visualize the results of generator, set save_to_dir = "your path"
    '''
    image_datagen = ImageDataGenerator(**aug_dict)
    mask_datagen = ImageDataGenerator(**aug_dict)
    image_generator = image_datagen.flow_from_directory(
        train_path,
        classes = [image_folder],
        class_mode = None,
        color_mode = image_color_mode,
        target_size = target_size,
        batch_size = batch_size,
        save_to_dir = save_to_dir,
        save_prefix  = image_save_prefix,
        seed = seed)
    mask_generator = mask_datagen.flow_from_directory(
        train_path,
        classes = [mask_folder],
        class_mode = None,
        color_mode = mask_color_mode,
        target_size = target_size,
        batch_size = batch_size,
        save_to_dir = save_to_dir,
        save_prefix  = mask_save_prefix,
        seed = seed)
    train_generator = zip(image_generator, mask_generator)
    print(train_generator)
    for (img,mask) in train_generator:
        img,mask = adjustData(img,mask,flag_multi_class,num_class)
        yield (img,mask)

#test data preprocessing
def testGenerator(test_path,num_image = 70,target_size = (256,256),flag_multi_class = False,as_gray = True):
    for i in range(num_image):
        img = io.imread(os.path.join(test_path,"%d.png"%i)) #[:,:,1]
        #img = Image.open(os.path.join(test_path,"%d.png"%i))
        img = img / 255
        img = trans.resize(img,target_size)
        img = np.reshape(img,img.shape+(1,)) if (not flag_multi_class) else img
        img = np.reshape(img,(1,)+img.shape)
        yield img

#training data preprocessing then calling adjustData() function
def geneTrainNpy(image_path,mask_path,flag_multi_class = False,num_class = 2,image_prefix = "image",mask_prefix = "mask",image_as_gray = True,mask_as_gray = True):
    image_name_arr = glob.glob(os.path.join(image_path,"%s*.png"%image_prefix))
    image_arr = []
    mask_arr = []
    for index,item in enumerate(image_name_arr):
        img = io.imread(item,as_gray = image_as_gray)
        img = np.reshape(img,img.shape + (1,)) if image_as_gray else img
        mask = io.imread(item.replace(image_path,mask_path).replace(image_prefix,mask_prefix),as_gray = mask_as_gray)
        mask = np.reshape(mask,mask.shape + (1,)) if mask_as_gray else mask
        img,mask = adjustData(img,mask,flag_multi_class,num_class)
        image_arr.append(img)
        mask_arr.append(mask)
    image_arr = np.array(image_arr)
    mask_arr = np.array(mask_arr)
    return image_arr,mask_arr


def labelVisualize(num_class,color_dict,img):
    img = img[:,:,0] if len(img.shape) == 3 else img
    img_out = np.zeros(img.shape + (3,))
    for i in range(num_class):
        img_out[img == i,:] = color_dict[i]
    return img_out / 255

#saving predicted image files inside each test folder
def saveResult(save_path,npyfile,flag_multi_class = False,num_class = 2):
    for i,item in enumerate(npyfile):
        img = labelVisualize(num_class,COLOR_DICT,item) if flag_multi_class else item[:,:,0]
        #io.imsave(os.path.join(save_path,"%d_predict.png"%i),img)
        io.imsave(os.path.join(save_path,"%d_predict.png"%i),img_as_ubyte(img))
import numpy as np 
import os
import skimage.io as io
import skimage.transform as trans
import numpy as np
from keras.models import *
from keras.layers import *
from keras.optimizers import *
from keras.callbacks import ModelCheckpoint, LearningRateScheduler
from keras import backend as keras


def unet(skip_wt, pretrained_weights = None,input_size = (256,256,1)):
   flt_sz=3;
  # MAIN DOWN
  # 1st node in MAIN DOWN path
   inputs = Input(input_size)
   conv0_0 = Conv2D(64, flt_sz, activation = 'relu', padding = 'same', kernel_initializer = 'he_normal')(inputs)
   conv0_0 = Conv2D(64, flt_sz, activation = 'relu', padding = 'same', kernel_initializer = 'he_normal')(conv0_0)

  # 2nd node in MAIN DOWN path
   pool0_0 = MaxPooling2D(pool_size=(2, 2))(conv0_0)
   conv1_0 = Conv2D(128, flt_sz, activation = 'relu', padding = 'same', kernel_initializer = 'he_normal')(pool0_0)
   conv1_0 = Conv2D(128, flt_sz, activation = 'relu', padding = 'same', kernel_initializer = 'he_normal')(conv1_0)

  # 1st sub branch with 1 node
   up0_1 = Conv2D(64, 2, activation = 'relu', padding = 'same', kernel_initializer = 'he_normal')(UpSampling2D(size = (2,2))(conv1_0))
   merge0_1 = skip_wt*concatenate([conv0_0,up0_1], axis = 3)
   conv0_1 = Conv2D(64, flt_sz, activation = 'relu', padding = 'same', kernel_initializer = 'he_normal')(merge0_1)
   conv0_1 = Conv2D(64, flt_sz, activation = 'relu', padding = 'same', kernel_initializer = 'he_normal')(conv0_1)
  
  # 3rd node in MAIN DOWN path
   pool1_0 = MaxPooling2D(pool_size=(2, 2))(conv1_0)
   conv2_0 = Conv2D(256, flt_sz, activation = 'relu', padding = 'same', kernel_initializer = 'he_normal')(pool1_0)
   conv2_0 = Conv2D(256, flt_sz, activation = 'relu', padding = 'same', kernel_initializer = 'he_normal')(conv2_0)

  # 2nd sub branch bottom most node
   up1_1 = Conv2D(128, 2, activation = 'relu', padding = 'same', kernel_initializer = 'he_normal')(UpSampling2D(size = (2,2))(conv2_0))
   merge1_1 = skip_wt*concatenate([conv1_0,up1_1], axis = 3)
   conv1_1 = Conv2D(128, flt_sz, activation = 'relu', padding = 'same', kernel_initializer = 'he_normal')(merge1_1)
   conv1_1 = Conv2D(128, flt_sz, activation = 'relu', padding = 'same', kernel_initializer = 'he_normal')(conv1_1)
  
  # 2nd sub branch 2nd node (upwards)
   up0_2 = Conv2D(64, 2, activation = 'relu', padding = 'same', kernel_initializer = 'he_normal')(UpSampling2D(size = (2,2))(conv1_1))
   merge0_2 = skip_wt*concatenate([conv0_1,up0_2], axis = 3)
   merge0_2 = skip_wt*concatenate([conv0_0,merge0_2], axis = 3)
   conv0_2 = Conv2D(64, flt_sz, activation = 'relu', padding = 'same', kernel_initializer = 'he_normal')(merge0_2)
   conv0_2 = Conv2D(64, flt_sz, activation = 'relu', padding = 'same', kernel_initializer = 'he_normal')(conv0_2)
  
  # 4th node in MAIN DOWN path
   pool2_0 = MaxPooling2D(pool_size=(2, 2))(conv2_0)
   conv3_0 = Conv2D(512, flt_sz, activation = 'relu', padding = 'same', kernel_initializer = 'he_normal')(pool2_0)
   conv3_0 = Conv2D(512, flt_sz, activation = 'relu', padding = 'same', kernel_initializer = 'he_normal')(conv3_0)
   drop3_0 = Dropout(0.5)(conv3_0)

  # 3rd sub branch bottom most node
   up2_1 = Conv2D(256, 2, activation = 'relu', padding = 'same', kernel_initializer = 'he_normal')(UpSampling2D(size = (2,2))(drop3_0))
   merge2_1 = skip_wt*concatenate([conv2_0,up2_1], axis = 3)
   conv2_1 = Conv2D(256, flt_sz, activation = 'relu', padding = 'same', kernel_initializer = 'he_normal')(merge2_1)
   conv2_1 = Conv2D(256, flt_sz, activation = 'relu', padding = 'same', kernel_initializer = 'he_normal')(conv2_1)
  
  # 3rd sub branch 2nd node (upwards)
   up1_2 = Conv2D(128, 2, activation = 'relu', padding = 'same', kernel_initializer = 'he_normal')(UpSampling2D(size = (2,2))(conv2_1))
   merge1_2 = skip_wt*concatenate([conv1_1,up1_2], axis = 3)
   merge1_2 = skip_wt*concatenate([merge1_2,conv1_0], axis = 3)
   conv1_2 = Conv2D(128, flt_sz, activation = 'relu', padding = 'same', kernel_initializer = 'he_normal')(merge1_2)
   conv1_2 = Conv2D(128, flt_sz, activation = 'relu', padding = 'same', kernel_initializer = 'he_normal')(conv1_2)

  # 3rd sub branch 3rd node (upwards)
   up0_3 = Conv2D(64, 2, activation = 'relu', padding = 'same', kernel_initializer = 'he_normal')(UpSampling2D(size = (2,2))(conv1_2))
   merge0_3 = skip_wt*concatenate([conv0_2,up0_3], axis = 3)
   merge0_3 = skip_wt*concatenate([merge0_3,conv0_1], axis = 3)
   merge0_3 = skip_wt*concatenate([merge0_3,conv0_0], axis = 3)
   conv0_3 = Conv2D(64, flt_sz, activation = 'relu', padding = 'same', kernel_initializer = 'he_normal')(merge0_3)
   conv0_3 = Conv2D(64, flt_sz, activation = 'relu', padding = 'same', kernel_initializer = 'he_normal')(conv0_3)

  # 5th node in MAIN DOWN path
  # Bottleneck
   pool3_0 = MaxPooling2D(pool_size=(2, 2))(drop3_0)
   conv4_0 = Conv2D(1024, flt_sz, activation = 'relu', padding = 'same', kernel_initializer = 'he_normal')(pool3_0)
   conv4_0 = Conv2D(1024, flt_sz, activation = 'relu', padding = 'same', kernel_initializer = 'he_normal')(conv4_0)
   drop4_0 = Dropout(0.5)(conv4_0)


  #MAIN UP
   up3_1 = Conv2D(512, 2, activation = 'relu', padding = 'same', kernel_initializer = 'he_normal')(UpSampling2D(size = (2,2))(drop4_0))
   merge3_1 = skip_wt*concatenate([drop3_0,up3_1], axis = 3)
   conv3_1 = Conv2D(512, flt_sz, activation = 'relu', padding = 'same', kernel_initializer = 'he_normal')(merge3_1)
   conv3_1 = Conv2D(512, flt_sz, activation = 'relu', padding = 'same', kernel_initializer = 'he_normal')(conv3_1)
  
  
   up2_2 = Conv2D(256, 2, activation = 'relu', padding = 'same', kernel_initializer = 'he_normal')(UpSampling2D(size = (2,2))(conv3_1))
   merge2_2 = skip_wt*concatenate([conv2_1,up2_2], axis = 3)
   merge2_2 = skip_wt*concatenate([merge2_2,conv2_0], axis = 3)
   conv2_2 = Conv2D(256, flt_sz, activation = 'relu', padding = 'same', kernel_initializer = 'he_normal')(merge2_2)
   conv2_2 = Conv2D(256, flt_sz, activation = 'relu', padding = 'same', kernel_initializer = 'he_normal')(conv2_2)
  
  
   up1_3 = Conv2D(128, 2, activation = 'relu', padding = 'same', kernel_initializer = 'he_normal')(UpSampling2D(size = (2,2))(conv2_2))
   merge1_3 = skip_wt*concatenate([conv1_2,up1_3], axis = 3)
   merge1_3 = skip_wt*concatenate([merge1_3,conv1_1], axis = 3)
   merge1_3 = skip_wt*concatenate([merge1_3,conv1_0], axis = 3)
   conv1_3 = Conv2D(128, flt_sz, activation = 'relu', padding = 'same', kernel_initializer = 'he_normal')(merge1_3)
   conv1_3 = Conv2D(128, flt_sz, activation = 'relu', padding = 'same', kernel_initializer = 'he_normal')(conv1_3)
  
  
   up0_4 = Conv2D(64, 2, activation = 'relu', padding = 'same', kernel_initializer = 'he_normal')(UpSampling2D(size = (2,2))(conv1_3))
   merge0_4 = skip_wt*concatenate([conv0_3,up0_4], axis = 3)
   merge0_4 = skip_wt*concatenate([merge0_4,conv0_2], axis = 3)
   merge0_4 = skip_wt*concatenate([merge0_4,conv0_1], axis = 3)
   merge0_4 = skip_wt*concatenate([merge0_4,conv0_0], axis = 3)
   conv0_4 = Conv2D(64, flt_sz, activation = 'relu', padding = 'same', kernel_initializer = 'he_normal')(merge0_4)
   conv0_4 = Conv2D(64, flt_sz, activation = 'relu', padding = 'same', kernel_initializer = 'he_normal')(conv0_4)
   
   # Deep Supervision: If we take the average

   conv_sum=tf.add(conv0_4, conv0_3);
   conv_sum=tf.add(conv_sum, conv0_2);
   conv_sum=tf.add(conv_sum, conv0_1);
   conv_sum=tf.add(conv_sum, conv0_0);


   conv_avg=tf.divide(conv_sum,5);
   conv_avg = Conv2D(2, flt_sz, activation = 'relu', padding = 'same', kernel_initializer = 'he_normal')(conv_avg) # Put conv0_4 in 
   conv_avg = Conv2D(1, 1, activation = 'sigmoid')(conv_avg)
  
   model = Model(inputs, conv_avg)

   model.compile(optimizer = tf.keras.optimizers.Adam(learning_rate = 1e-4), loss = 'mse', metrics = ['accuracy'])
   #model.compile(optimizer = tfa.optimizers.Yogi(learning_rate = 1e-4), loss = 'mse', metrics = ['accuracy'])
  
   if(pretrained_weights):
    model.load_weights(pretrained_weights)
    
   return model
for sk in range(2,3):
  data_gen_args = dict(rotation_range=0.2,
                    width_shift_range=0.05,
                    height_shift_range=0.05,
                    shear_range=0.05,
                    zoom_range=0.05,
                    horizontal_flip=True,
                    fill_mode='nearest')
  myGene = trainGenerator(2,'sample_data','image','label',data_gen_args,save_to_dir = None)
  model = unet(1)
  model_checkpoint = ModelCheckpoint('name_of_model.hdf5', monitor='loss',verbose=1, save_best_only=True)
  model.fit(myGene,steps_per_epoch=300,epochs=10,callbacks=[model_checkpoint])
  test_path = "sample_data/test"
  testGene = testGenerator(test_path)
  results = model.predict_generator(testGene,9,verbose=1) #12: Number of image files in each test folder
  saveResult(test_path,results)
